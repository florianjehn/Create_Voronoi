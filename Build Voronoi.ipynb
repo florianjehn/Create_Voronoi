{
 "cells": [
  {
   "cell_type": "markdown",
   "id": "11a17834",
   "metadata": {},
   "source": [
    "Builds a geojson that contains the geometry of voronoi polygons for a given set of points"
   ]
  },
  {
   "cell_type": "code",
   "execution_count": 11,
   "id": "9572e397",
   "metadata": {},
   "outputs": [],
   "source": [
    "import geopandas as gpd\n",
    "import pandas as pd\n",
    "from shapely.geometry import Point\n",
    "import numpy as np\n",
    "import geovoronoi"
   ]
  },
  {
   "cell_type": "markdown",
   "id": "c23d8432",
   "metadata": {},
   "source": [
    "geovoronoi needs a outer layer to know where to cut of the voronois"
   ]
  },
  {
   "cell_type": "code",
   "execution_count": 12,
   "id": "9e801cbd",
   "metadata": {},
   "outputs": [
    {
     "data": {
      "image/svg+xml": [
       "<svg xmlns=\"http://www.w3.org/2000/svg\" xmlns:xlink=\"http://www.w3.org/1999/xlink\" width=\"300\" height=\"196.65817806787354\" viewBox=\"-194.39657381118656 -92.55192917193821 388.79565985963916 196.65817806787354\" preserveAspectRatio=\"xMinYMin meet\"><g transform=\"matrix(1,0,0,-1,0,11.55431972399711)\"><path fill-rule=\"evenodd\" fill=\"#66cc99\" stroke=\"#555555\" stroke-width=\"2.591971065730928\" opacity=\"0.6\" d=\"M -179.99673455712585,-78.1520899178775 L 179.99924679439192,-78.1520899178775 L 179.99924679439192,89.70640964187461 L -179.99673455712585,89.70640964187461 L -179.99673455712585,-78.1520899178775 z\" /></g></svg>"
      ],
      "text/plain": [
       "<shapely.geometry.polygon.Polygon at 0x7f5b36486a40>"
      ]
     },
     "execution_count": 12,
     "metadata": {},
     "output_type": "execute_result"
    }
   ],
   "source": [
    "# This layer contains the whole surface of the earth\n",
    "global_boundary_layer = gpd.read_file(\"global_boundary.geojson\")\n",
    "global_boundary_layer[\"geometry\"][0]"
   ]
  },
  {
   "cell_type": "code",
   "execution_count": 13,
   "id": "d7936fcc",
   "metadata": {},
   "outputs": [
    {
     "data": {
      "text/html": [
       "<div>\n",
       "<style scoped>\n",
       "    .dataframe tbody tr th:only-of-type {\n",
       "        vertical-align: middle;\n",
       "    }\n",
       "\n",
       "    .dataframe tbody tr th {\n",
       "        vertical-align: top;\n",
       "    }\n",
       "\n",
       "    .dataframe thead th {\n",
       "        text-align: right;\n",
       "    }\n",
       "</style>\n",
       "<table border=\"1\" class=\"dataframe\">\n",
       "  <thead>\n",
       "    <tr style=\"text-align: right;\">\n",
       "      <th></th>\n",
       "      <th>months_since_war</th>\n",
       "      <th>-3</th>\n",
       "      <th>-2</th>\n",
       "      <th>-1</th>\n",
       "      <th>0</th>\n",
       "      <th>1</th>\n",
       "      <th>2</th>\n",
       "      <th>3</th>\n",
       "      <th>4</th>\n",
       "      <th>5</th>\n",
       "      <th>6</th>\n",
       "      <th>...</th>\n",
       "      <th>108</th>\n",
       "      <th>109</th>\n",
       "      <th>110</th>\n",
       "      <th>111</th>\n",
       "      <th>112</th>\n",
       "      <th>113</th>\n",
       "      <th>114</th>\n",
       "      <th>115</th>\n",
       "      <th>116</th>\n",
       "      <th>cluster</th>\n",
       "    </tr>\n",
       "  </thead>\n",
       "  <tbody>\n",
       "    <tr>\n",
       "      <th rowspan=\"5\" valign=\"top\">-78.15209</th>\n",
       "      <th>194.562505</th>\n",
       "      <td>0.000013</td>\n",
       "      <td>0.000010</td>\n",
       "      <td>2.618384e-06</td>\n",
       "      <td>1.169741e-07</td>\n",
       "      <td>0.0</td>\n",
       "      <td>0.0</td>\n",
       "      <td>0.0</td>\n",
       "      <td>7.807771e-11</td>\n",
       "      <td>4.295335e-08</td>\n",
       "      <td>5.783891e-07</td>\n",
       "      <td>...</td>\n",
       "      <td>2.086107e-08</td>\n",
       "      <td>0.0</td>\n",
       "      <td>0.0</td>\n",
       "      <td>0.0</td>\n",
       "      <td>4.607493e-11</td>\n",
       "      <td>1.071683e-07</td>\n",
       "      <td>1.511997e-06</td>\n",
       "      <td>1.032908e-05</td>\n",
       "      <td>5.656922e-05</td>\n",
       "      <td>1</td>\n",
       "    </tr>\n",
       "    <tr>\n",
       "      <th>195.687505</th>\n",
       "      <td>0.000014</td>\n",
       "      <td>0.000011</td>\n",
       "      <td>4.195485e-06</td>\n",
       "      <td>1.507053e-07</td>\n",
       "      <td>0.0</td>\n",
       "      <td>0.0</td>\n",
       "      <td>0.0</td>\n",
       "      <td>1.120639e-10</td>\n",
       "      <td>5.421054e-08</td>\n",
       "      <td>6.216691e-07</td>\n",
       "      <td>...</td>\n",
       "      <td>4.104710e-08</td>\n",
       "      <td>0.0</td>\n",
       "      <td>0.0</td>\n",
       "      <td>0.0</td>\n",
       "      <td>1.299792e-10</td>\n",
       "      <td>1.619093e-07</td>\n",
       "      <td>1.572849e-06</td>\n",
       "      <td>1.059330e-05</td>\n",
       "      <td>6.410631e-05</td>\n",
       "      <td>1</td>\n",
       "    </tr>\n",
       "    <tr>\n",
       "      <th>196.812505</th>\n",
       "      <td>0.000015</td>\n",
       "      <td>0.000012</td>\n",
       "      <td>4.946780e-06</td>\n",
       "      <td>1.562531e-07</td>\n",
       "      <td>0.0</td>\n",
       "      <td>0.0</td>\n",
       "      <td>0.0</td>\n",
       "      <td>1.409783e-10</td>\n",
       "      <td>5.903569e-08</td>\n",
       "      <td>6.041650e-07</td>\n",
       "      <td>...</td>\n",
       "      <td>5.174504e-08</td>\n",
       "      <td>0.0</td>\n",
       "      <td>0.0</td>\n",
       "      <td>0.0</td>\n",
       "      <td>3.325528e-10</td>\n",
       "      <td>1.605867e-07</td>\n",
       "      <td>1.584246e-06</td>\n",
       "      <td>1.071534e-05</td>\n",
       "      <td>6.976090e-05</td>\n",
       "      <td>1</td>\n",
       "    </tr>\n",
       "    <tr>\n",
       "      <th>197.937506</th>\n",
       "      <td>0.000016</td>\n",
       "      <td>0.000012</td>\n",
       "      <td>4.486799e-06</td>\n",
       "      <td>1.141308e-07</td>\n",
       "      <td>0.0</td>\n",
       "      <td>0.0</td>\n",
       "      <td>0.0</td>\n",
       "      <td>4.002711e-10</td>\n",
       "      <td>6.516756e-08</td>\n",
       "      <td>6.241169e-07</td>\n",
       "      <td>...</td>\n",
       "      <td>4.716973e-08</td>\n",
       "      <td>0.0</td>\n",
       "      <td>0.0</td>\n",
       "      <td>0.0</td>\n",
       "      <td>7.901017e-10</td>\n",
       "      <td>1.814199e-07</td>\n",
       "      <td>1.604507e-06</td>\n",
       "      <td>1.073270e-05</td>\n",
       "      <td>7.320941e-05</td>\n",
       "      <td>1</td>\n",
       "    </tr>\n",
       "    <tr>\n",
       "      <th>320.562509</th>\n",
       "      <td>0.000004</td>\n",
       "      <td>0.000003</td>\n",
       "      <td>2.499075e-07</td>\n",
       "      <td>3.378662e-10</td>\n",
       "      <td>0.0</td>\n",
       "      <td>0.0</td>\n",
       "      <td>0.0</td>\n",
       "      <td>4.658477e-14</td>\n",
       "      <td>2.669136e-12</td>\n",
       "      <td>3.173473e-11</td>\n",
       "      <td>...</td>\n",
       "      <td>5.009768e-10</td>\n",
       "      <td>0.0</td>\n",
       "      <td>0.0</td>\n",
       "      <td>0.0</td>\n",
       "      <td>3.906038e-12</td>\n",
       "      <td>2.667285e-10</td>\n",
       "      <td>2.944176e-09</td>\n",
       "      <td>4.246690e-08</td>\n",
       "      <td>3.493662e-08</td>\n",
       "      <td>1</td>\n",
       "    </tr>\n",
       "  </tbody>\n",
       "</table>\n",
       "<p>5 rows × 121 columns</p>\n",
       "</div>"
      ],
      "text/plain": [
       "months_since_war            -3        -2            -1             0    1  \\\n",
       "-78.15209 194.562505  0.000013  0.000010  2.618384e-06  1.169741e-07  0.0   \n",
       "          195.687505  0.000014  0.000011  4.195485e-06  1.507053e-07  0.0   \n",
       "          196.812505  0.000015  0.000012  4.946780e-06  1.562531e-07  0.0   \n",
       "          197.937506  0.000016  0.000012  4.486799e-06  1.141308e-07  0.0   \n",
       "          320.562509  0.000004  0.000003  2.499075e-07  3.378662e-10  0.0   \n",
       "\n",
       "months_since_war        2    3             4             5             6  ...  \\\n",
       "-78.15209 194.562505  0.0  0.0  7.807771e-11  4.295335e-08  5.783891e-07  ...   \n",
       "          195.687505  0.0  0.0  1.120639e-10  5.421054e-08  6.216691e-07  ...   \n",
       "          196.812505  0.0  0.0  1.409783e-10  5.903569e-08  6.041650e-07  ...   \n",
       "          197.937506  0.0  0.0  4.002711e-10  6.516756e-08  6.241169e-07  ...   \n",
       "          320.562509  0.0  0.0  4.658477e-14  2.669136e-12  3.173473e-11  ...   \n",
       "\n",
       "months_since_war               108  109  110  111           112           113  \\\n",
       "-78.15209 194.562505  2.086107e-08  0.0  0.0  0.0  4.607493e-11  1.071683e-07   \n",
       "          195.687505  4.104710e-08  0.0  0.0  0.0  1.299792e-10  1.619093e-07   \n",
       "          196.812505  5.174504e-08  0.0  0.0  0.0  3.325528e-10  1.605867e-07   \n",
       "          197.937506  4.716973e-08  0.0  0.0  0.0  7.901017e-10  1.814199e-07   \n",
       "          320.562509  5.009768e-10  0.0  0.0  0.0  3.906038e-12  2.667285e-10   \n",
       "\n",
       "months_since_war               114           115           116  cluster  \n",
       "-78.15209 194.562505  1.511997e-06  1.032908e-05  5.656922e-05        1  \n",
       "          195.687505  1.572849e-06  1.059330e-05  6.410631e-05        1  \n",
       "          196.812505  1.584246e-06  1.071534e-05  6.976090e-05        1  \n",
       "          197.937506  1.604507e-06  1.073270e-05  7.320941e-05        1  \n",
       "          320.562509  2.944176e-09  4.246690e-08  3.493662e-08        1  \n",
       "\n",
       "[5 rows x 121 columns]"
      ]
     },
     "execution_count": 13,
     "metadata": {},
     "output_type": "execute_result"
    }
   ],
   "source": [
    "growth_rate = gpd.GeoDataFrame(pd.read_pickle(\"seaweed_growth_rate_clustered_global.pkl\"))\n",
    "growth_rate.head()"
   ]
  },
  {
   "cell_type": "code",
   "execution_count": 14,
   "id": "bb1b2d3b",
   "metadata": {},
   "outputs": [],
   "source": [
    "def prepare_geometry(growth_df):\n",
    "    \"\"\"\n",
    "    Prepares the geometry for the growth_df. For some reason the spatial data has\n",
    "    a longitude that is 0-360 instead of -180 to 180. This function converts it to\n",
    "    the latter\n",
    "    Arguments:\n",
    "        growth_df: a dataframe of the growth rate\n",
    "    Returns:\n",
    "        None, but saves the plot\n",
    "    \"\"\"\n",
    "    growth_df[\"latlon\"] = growth_df.index\n",
    "    growth_df[\"latitude\"] = growth_df[\"latlon\"].str[0]\n",
    "    growth_df[\"longitude\"] = growth_df[\"latlon\"].str[1]\n",
    "    growth_df[\"longitude\"] = growth_df[\"longitude\"].apply(\n",
    "        lambda x: x - 360 if x > 180 else x\n",
    "    )\n",
    "    growth_df[\"geometry\"] = (\n",
    "        growth_df[[\"longitude\", \"latitude\"]].apply(tuple, axis=1).apply(Point)\n",
    "    )\n",
    "    growth_df = gpd.GeoDataFrame(growth_df)\n",
    "    return growth_df"
   ]
  },
  {
   "cell_type": "code",
   "execution_count": 15,
   "id": "d9e6ac8a",
   "metadata": {},
   "outputs": [],
   "source": [
    "# Fix the geometry\n",
    "growth_rate = prepare_geometry(growth_rate)"
   ]
  },
  {
   "cell_type": "code",
   "execution_count": 16,
   "id": "994a2b94",
   "metadata": {},
   "outputs": [
    {
     "data": {
      "text/plain": [
       "-78.15209  194.562505    POINT (-165.43749 -78.15209)\n",
       "           195.687505    POINT (-164.31249 -78.15209)\n",
       "           196.812505    POINT (-163.18749 -78.15209)\n",
       "           197.937506    POINT (-162.06249 -78.15209)\n",
       "           320.562509     POINT (-39.43749 -78.15209)\n",
       "Name: geometry, dtype: geometry"
      ]
     },
     "execution_count": 16,
     "metadata": {},
     "output_type": "execute_result"
    }
   ],
   "source": [
    "growth_rate.geometry.head()"
   ]
  },
  {
   "cell_type": "markdown",
   "id": "dbf89838",
   "metadata": {},
   "source": [
    "Use geovoronoi to calculate the voronoi polygons"
   ]
  },
  {
   "cell_type": "code",
   "execution_count": 17,
   "id": "a537b827",
   "metadata": {},
   "outputs": [],
   "source": [
    "region_polys, region_pts = geovoronoi.voronoi_regions_from_coords(growth_rate[\"geometry\"], global_boundary_layer[\"geometry\"][0])"
   ]
  },
  {
   "cell_type": "markdown",
   "id": "19565ad2",
   "metadata": {},
   "source": [
    "Delete the old geometry from the growth df and attach the voronoi polygons instead. "
   ]
  },
  {
   "cell_type": "code",
   "execution_count": 18,
   "id": "95c6d34c",
   "metadata": {},
   "outputs": [],
   "source": [
    "del(growth_rate[\"geometry\"])\n",
    "growth_rate[\"geometry\"] = region_polys.values()"
   ]
  },
  {
   "cell_type": "markdown",
   "id": "5cc15dc6",
   "metadata": {},
   "source": [
    "Remove everything else from the df_because we are only intersted in the polygon"
   ]
  },
  {
   "cell_type": "code",
   "execution_count": 19,
   "id": "3a44980d",
   "metadata": {},
   "outputs": [],
   "source": [
    "growth_rate = growth_rate[[\"geometry\"]].reset_index()"
   ]
  },
  {
   "cell_type": "markdown",
   "id": "7ae565c8",
   "metadata": {},
   "source": [
    "Store it"
   ]
  },
  {
   "cell_type": "code",
   "execution_count": 20,
   "id": "8a2c9933",
   "metadata": {},
   "outputs": [],
   "source": [
    "growth_rate.to_file(\"voronoi.geojson\")"
   ]
  }
 ],
 "metadata": {
  "kernelspec": {
   "display_name": "seaweed-growth-model",
   "language": "python",
   "name": "seaweed-growth-model"
  },
  "language_info": {
   "codemirror_mode": {
    "name": "ipython",
    "version": 3
   },
   "file_extension": ".py",
   "mimetype": "text/x-python",
   "name": "python",
   "nbconvert_exporter": "python",
   "pygments_lexer": "ipython3",
   "version": "3.10.8"
  }
 },
 "nbformat": 4,
 "nbformat_minor": 5
}
